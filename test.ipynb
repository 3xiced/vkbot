{
 "cells": [
  {
   "cell_type": "code",
   "execution_count": 8,
   "metadata": {},
   "outputs": [
    {
     "name": "stdout",
     "output_type": "stream",
     "text": [
      "===============================================\n",
      "Вычислительная техника лаб.  2-16 нед.\n",
      "===============================================\n",
      "дистанционно\n",
      "===============================================\n",
      "\n"
     ]
    }
   ],
   "source": [
    "import download\n",
    "import xlrd\n",
    "import whataweek\n",
    "from enum import Enum\n",
    "\n",
    "cmd = 'понедельник'\n",
    "def get_schedule(cmd):\n",
    "    if not download.is_downloaded:\n",
    "        download.download_sheet()\n",
    "    schedule = \"===============================================\\n\"\n",
    "    start, end = None, None\n",
    "    if download.is_xls:\n",
    "        wb = xlrd.open_workbook('table_xls.xls', formatting_info=True)\n",
    "    else:\n",
    "        wb = xlrd.open_workbook('table_xlsx.xlsx', formatting_info=True)\n",
    "    sheet = wb.sheet_by_index(0)\n",
    "    k = 0\n",
    "    # Понедельник, вторник, среда, четверг, пятница, суббота\n",
    "    if whataweek.get_week() == \"четная\":\n",
    "\n",
    "        days = [[11, 30], [31, 50], [51, 70], [71, 90], [91, 110], [111, 130]]\n",
    "\n",
    "        if \"понедельник\" in cmd:\n",
    "            for i in range(days[0][0], days[0][0] + 4):\n",
    "                if sheet.cell_value(i, 7) == '':\n",
    "                    start = days[0][0]\n",
    "                    end = days[0][0] + 4\n",
    "                    break\n",
    "            else:\n",
    "                start = days[0][0] + 2\n",
    "                end = days[0][0] + 3\n",
    "            for i in range(start, end + 1):\n",
    "                if sheet.cell_value(i, 7) == \"\":\n",
    "                    if k == 0:\n",
    "                        schedule += \"===============================================\\n\"\n",
    "                    k += 1\n",
    "                else:\n",
    "                    schedule += str(sheet.cell_value(i, 7)+\"\\n\")\n",
    "                    k = 0\n",
    "            schedule += \"===============================================\\n\"\n",
    "            return schedule\n",
    "print(get_schedule(cmd))"
   ]
  }
 ],
 "metadata": {
  "interpreter": {
   "hash": "5229ac369a2a1727a0886bd6861b0b81d8c8df00d112305e59f1132c11d28f46"
  },
  "kernelspec": {
   "display_name": "Python 3.9.7 64-bit ('testenv': conda)",
   "language": "python",
   "name": "python3"
  },
  "language_info": {
   "codemirror_mode": {
    "name": "ipython",
    "version": 3
   },
   "file_extension": ".py",
   "mimetype": "text/x-python",
   "name": "python",
   "nbconvert_exporter": "python",
   "pygments_lexer": "ipython3",
   "version": "3.9.7"
  },
  "orig_nbformat": 4
 },
 "nbformat": 4,
 "nbformat_minor": 2
}
